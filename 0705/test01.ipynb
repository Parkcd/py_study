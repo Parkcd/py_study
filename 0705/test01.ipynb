{
 "cells": [
  {
   "cell_type": "code",
   "execution_count": 1,
   "id": "845ee9ac",
   "metadata": {
    "scrolled": true
   },
   "outputs": [
    {
     "name": "stdout",
     "output_type": "stream",
     "text": [
      "7 + 69 =76\n",
      "잘 했어요\n",
      "67 + 38 =\n"
     ]
    },
    {
     "ename": "ValueError",
     "evalue": "invalid literal for int() with base 10: ''",
     "output_type": "error",
     "traceback": [
      "\u001b[1;31m---------------------------------------------------------------------------\u001b[0m",
      "\u001b[1;31mValueError\u001b[0m                                Traceback (most recent call last)",
      "Input \u001b[1;32mIn [1]\u001b[0m, in \u001b[0;36m<cell line: 5>\u001b[1;34m()\u001b[0m\n\u001b[0;32m      6\u001b[0m x \u001b[38;5;241m=\u001b[39m random\u001b[38;5;241m.\u001b[39mrandint(\u001b[38;5;241m1\u001b[39m, \u001b[38;5;241m100\u001b[39m)\n\u001b[0;32m      7\u001b[0m y \u001b[38;5;241m=\u001b[39m random\u001b[38;5;241m.\u001b[39mrandint(\u001b[38;5;241m1\u001b[39m, \u001b[38;5;241m100\u001b[39m)\n\u001b[1;32m----> 8\u001b[0m answer \u001b[38;5;241m=\u001b[39m \u001b[38;5;28;43mint\u001b[39;49m\u001b[43m(\u001b[49m\u001b[38;5;28;43minput\u001b[39;49m\u001b[43m(\u001b[49m\u001b[38;5;124;43mf\u001b[39;49m\u001b[38;5;124;43m\"\u001b[39;49m\u001b[38;5;132;43;01m{\u001b[39;49;00m\u001b[43mx\u001b[49m\u001b[38;5;132;43;01m}\u001b[39;49;00m\u001b[38;5;124;43m + \u001b[39;49m\u001b[38;5;132;43;01m{\u001b[39;49;00m\u001b[43my\u001b[49m\u001b[38;5;132;43;01m}\u001b[39;49;00m\u001b[38;5;124;43m =\u001b[39;49m\u001b[38;5;124;43m\"\u001b[39;49m\u001b[43m)\u001b[49m\u001b[43m)\u001b[49m \u001b[38;5;66;03m#javascript에서는 $ 를 쓰려면 `` 백틱을 써야하고 파이썬에선 f를 써야함 \u001b[39;00m\n\u001b[0;32m      9\u001b[0m \u001b[38;5;28;01mif\u001b[39;00m answer \u001b[38;5;241m==\u001b[39m x \u001b[38;5;241m+\u001b[39m y:\n\u001b[0;32m     10\u001b[0m     \u001b[38;5;28mprint\u001b[39m(\u001b[38;5;124m\"\u001b[39m\u001b[38;5;124m잘 했어요\u001b[39m\u001b[38;5;124m\"\u001b[39m)\n",
      "\u001b[1;31mValueError\u001b[0m: invalid literal for int() with base 10: ''"
     ]
    }
   ],
   "source": [
    "# 산수 문제\n",
    "import random\n",
    "\n",
    "flag = True\n",
    "while flag:\n",
    "    x = random.randint(1, 100)\n",
    "    y = random.randint(1, 100)\n",
    "    answer = int(input(f\"{x} + {y} =\")) #javascript에서는 $ 를 쓰려면 `` 백틱을 써야하고 파이썬에선 f를 써야함 \n",
    "    if answer == x + y:\n",
    "        print(\"잘 했어요\")\n",
    "    else:\n",
    "        print(\"틀렸어요, 하지만 다음번에는 잘 할 수 있죠?\")\n",
    "        flag = False"
   ]
  },
  {
   "cell_type": "code",
   "execution_count": null,
   "id": "be91e4ac",
   "metadata": {
    "scrolled": true
   },
   "outputs": [],
   "source": [
    "# 중첩반복문\n",
    "for y in range(1,6):\n",
    "    for x in range(y):\n",
    "        print(\"*\" , end=\"\")\n",
    "    print(\"\")"
   ]
  },
  {
   "cell_type": "code",
   "execution_count": null,
   "id": "3fb8ffc0",
   "metadata": {
    "scrolled": true
   },
   "outputs": [],
   "source": [
    "# 주사위 2개의 합이 6인 경우를 전부 출력\n",
    "\n",
    "for a in range(1,7):\n",
    "    for b in range(1,7):\n",
    "        if a+b == 6:\n",
    "            print(f\"첫 번째 주사위 = {a} 두 번째 주사위 = {b}\")"
   ]
  },
  {
   "cell_type": "code",
   "execution_count": null,
   "id": "91c0bc2d",
   "metadata": {
    "scrolled": true
   },
   "outputs": [],
   "source": [
    "# 무한 루틴과 break\n",
    "while True: \n",
    "    light = input(\"신호등 색상을 입력:\")\n",
    "    if light == 'green':\n",
    "        break\n",
    "print('전진!!')"
   ]
  },
  {
   "cell_type": "code",
   "execution_count": 4,
   "id": "5885f912",
   "metadata": {
    "scrolled": true
   },
   "outputs": [
    {
     "name": "stdout",
     "output_type": "stream",
     "text": [
      "1 2 4 5 7 8 10 "
     ]
    }
   ],
   "source": [
    "#1~10 사이에서 3의 배수가 아니면 출력\n",
    "for i in range(1 , 11):\n",
    "    if i% 3 == 0:\n",
    "        continue\n",
    "    print(i,end=\" \")"
   ]
  },
  {
   "cell_type": "code",
   "execution_count": 12,
   "id": "825b903e",
   "metadata": {
    "scrolled": true
   },
   "outputs": [
    {
     "name": "stdout",
     "output_type": "stream",
     "text": [
      "2 3 5 7 11 13 17 19 23 29 31 37 41 43 47 53 59 61 67 71 73 79 83 89 97 "
     ]
    }
   ],
   "source": [
    "#1~100 사이의 소수 찾기\n",
    "N_PRIMES = 25\n",
    "number = 2\n",
    "count = 0\n",
    "\n",
    "while count < N_PRIMES :\n",
    "    divisor = 2\n",
    "    prime = True\n",
    "    \n",
    "    while divisor < number:\n",
    "        if number % divisor == 0 :\n",
    "            prime = False\n",
    "            break;\n",
    "        divisor += 1\n",
    "    if prime:\n",
    "        count += 1\n",
    "        print(number, end= \" \")\n",
    "        \n",
    "    number += 1"
   ]
  },
  {
   "cell_type": "code",
   "execution_count": 23,
   "id": "4430116e",
   "metadata": {
    "scrolled": true
   },
   "outputs": [
    {
     "name": "stdout",
     "output_type": "stream",
     "text": [
      "반복회수: 10000000\n",
      "Pi = 3.141593\n"
     ]
    }
   ],
   "source": [
    "# 파이 값을 계산하는 프로그램\n",
    "divisor = 1.0\n",
    "divident = 4.0\n",
    "sum = 0.0\n",
    "loop_count = int(input(\"반복회수: \"))\n",
    "while(loop_count > 0) :\n",
    "    sum = sum+ divident / divisor\n",
    "    divident = -1.0 * divident\n",
    "    divisor = divisor + 2\n",
    "    loop_count = loop_count -1\n",
    "print(\"Pi = %f\" % sum)"
   ]
  }
 ],
 "metadata": {
  "kernelspec": {
   "display_name": "Python 3 (ipykernel)",
   "language": "python",
   "name": "python3"
  },
  "language_info": {
   "codemirror_mode": {
    "name": "ipython",
    "version": 3
   },
   "file_extension": ".py",
   "mimetype": "text/x-python",
   "name": "python",
   "nbconvert_exporter": "python",
   "pygments_lexer": "ipython3",
   "version": "3.9.12"
  }
 },
 "nbformat": 4,
 "nbformat_minor": 5
}
