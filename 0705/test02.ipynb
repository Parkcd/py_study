{
 "cells": [
  {
   "cell_type": "code",
   "execution_count": 2,
   "id": "845ee9ac",
   "metadata": {
    "scrolled": true
   },
   "outputs": [
    {
     "name": "stdout",
     "output_type": "stream",
     "text": [
      "원하는 단은 :16\n",
      "16 * 1 = 16\n",
      "16 * 2 = 32\n",
      "16 * 3 = 48\n",
      "16 * 4 = 64\n",
      "16 * 5 = 80\n",
      "16 * 6 = 96\n",
      "16 * 7 = 112\n",
      "16 * 8 = 128\n",
      "16 * 9 = 144\n"
     ]
    }
   ],
   "source": [
    "#while문을 사용한 구구셈\n",
    "dan = int(input(\"원하는 단은 :\"))\n",
    "i=1\n",
    "\n",
    "while i <= 9 :\n",
    "    print(\"%d * %d = %d\" %(dan, i , dan*i))\n",
    "    i = i+1"
   ]
  },
  {
   "cell_type": "code",
   "execution_count": 13,
   "id": "67907eeb",
   "metadata": {},
   "outputs": [
    {
     "name": "stdout",
     "output_type": "stream",
     "text": [
      "1부터 100 사이의 숫자를 맞추세요\n",
      "숫자를 입력하세요 : 40\n",
      "너무 낮음!\n",
      "숫자를 입력하세요 : 60\n",
      "너무 높음!\n",
      "숫자를 입력하세요 : 50\n",
      "너무 높음!\n",
      "숫자를 입력하세요 : 45\n",
      "너무 낮음!\n",
      "숫자를 입력하세요 : 57\n",
      "너무 높음!\n",
      "숫자를 입력하세요 : 46\n",
      "너무 낮음!\n",
      "숫자를 입력하세요 : 47\n",
      "너무 낮음!\n",
      "숫자를 입력하세요 : 48\n",
      "너무 낮음!\n",
      "숫자를 입력하세요 : 49\n",
      "축하합니다. 시도횟수= 9\n"
     ]
    }
   ],
   "source": [
    "# 숫자 맞추기 게임\n",
    "import random\n",
    "\n",
    "tries = 0\n",
    "guess = 0\n",
    "answer = random.randint(1, 100)\n",
    "\n",
    "print(\"1부터 100 사이의 숫자를 맞추세요\")\n",
    "while guess != answer:\n",
    "    guess = int(input(\"숫자를 입력하세요 : \"))\n",
    "    tries = tries + 1\n",
    "    \n",
    "    if guess < answer:\n",
    "        print(\"너무 낮음!\")\n",
    "    elif guess > answer:\n",
    "        print(\"너무 높음!\")\n",
    "    \n",
    "if guess == answer:\n",
    "    print(\"축하합니다. 시도횟수=\" , tries)\n",
    "else:\n",
    "    print(\"정답은\", answer)"
   ]
  }
 ],
 "metadata": {
  "kernelspec": {
   "display_name": "Python 3 (ipykernel)",
   "language": "python",
   "name": "python3"
  },
  "language_info": {
   "codemirror_mode": {
    "name": "ipython",
    "version": 3
   },
   "file_extension": ".py",
   "mimetype": "text/x-python",
   "name": "python",
   "nbconvert_exporter": "python",
   "pygments_lexer": "ipython3",
   "version": "3.9.12"
  }
 },
 "nbformat": 4,
 "nbformat_minor": 5
}
