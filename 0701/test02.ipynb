{
 "cells": [
  {
   "cell_type": "markdown",
   "id": "259d3609",
   "metadata": {},
   "source": [
    "## 입력과 출력"
   ]
  },
  {
   "cell_type": "code",
   "execution_count": 2,
   "id": "91611591",
   "metadata": {
    "scrolled": true
   },
   "outputs": [
    {
     "name": "stdout",
     "output_type": "stream",
     "text": [
      "이름을 입력하세요:박성호\n",
      "박성호 씨, 안녕하세요?\n",
      "파이썬에 오신 것을 환영합니다\n"
     ]
    }
   ],
   "source": [
    "name = input(\"이름을 입력하세요:\")\n",
    "print(name, \"씨, 안녕하세요?\")\n",
    "print(\"파이썬에 오신 것을 환영합니다\")"
   ]
  },
  {
   "cell_type": "code",
   "execution_count": 3,
   "id": "bcf314f0",
   "metadata": {
    "scrolled": true
   },
   "outputs": [
    {
     "name": "stdout",
     "output_type": "stream",
     "text": [
      "첫 번째 정수를 입력하세요 :100\n",
      "두 번째 정수를 입력하세요 :200\n",
      "합은 100200\n"
     ]
    }
   ],
   "source": [
    "x = input(\"첫 번째 정수를 입력하세요 :\")\n",
    "y = input(\"두 번째 정수를 입력하세요 :\")\n",
    "sum = x + y\n",
    "print(\"합은\" , sum)"
   ]
  },
  {
   "cell_type": "code",
   "execution_count": 4,
   "id": "16e75e52",
   "metadata": {
    "scrolled": true
   },
   "outputs": [
    {
     "name": "stdout",
     "output_type": "stream",
     "text": [
      "첫 번째 정수를 입력하세요 :100\n",
      "두 번째 정수를 입력하세요 :200\n",
      "합은 300\n"
     ]
    }
   ],
   "source": [
    "s1 = input(\"첫 번째 정수를 입력하세요 :\")\n",
    "x = int(s1)\n",
    "s2 = input(\"두 번째 정수를 입력하세요 :\")\n",
    "y = int(s2)\n",
    "sum = x + y\n",
    "print(\"합은\" , sum)"
   ]
  },
  {
   "cell_type": "code",
   "execution_count": 11,
   "id": "fcb8f2a1",
   "metadata": {
    "scrolled": true
   },
   "outputs": [
    {
     "name": "stdout",
     "output_type": "stream",
     "text": [
      "면적(제곱미터):5\n",
      "1.5151515151515151 평\n"
     ]
    }
   ],
   "source": [
    "# 부동 소수점 사용\n",
    "# 평수를 구하는 방법\n",
    "# eval은 데이터에 따라 실수 또는 정수로 변환\n",
    "SQMETER_PER_P = 3.3\n",
    "\n",
    "area = eval(input(\"면적(제곱미터):\"))\n",
    "py = area / SQMETER_PER_P\n",
    "print(py, \"평\")"
   ]
  },
  {
   "cell_type": "code",
   "execution_count": 12,
   "id": "2fbfd158",
   "metadata": {
    "scrolled": true
   },
   "outputs": [
    {
     "name": "stdout",
     "output_type": "stream",
     "text": [
      "면적(제곱미터):25.6\n",
      "7.76 평\n"
     ]
    }
   ],
   "source": [
    "# 형식화된 출력\n",
    "SQMETER_PER_P = 3.3\n",
    "\n",
    "area = eval(input(\"면적(제곱미터):\"))\n",
    "py = area / SQMETER_PER_P\n",
    "print(\"%.2f\" %py, \"평\")"
   ]
  },
  {
   "cell_type": "code",
   "execution_count": 13,
   "id": "2622ac15",
   "metadata": {
    "scrolled": true
   },
   "outputs": [
    {
     "name": "stdout",
     "output_type": "stream",
     "text": [
      "안녕하세요\n",
      "이름이 어떻게 되시나요?성호\n",
      "만나서 반갑습니다.성호씨\n",
      "이름의 길이는 다음과 같군요: 2\n",
      "나이가 어떻게 되나요?301\n",
      "내년이면302이 되시는 군요\n"
     ]
    }
   ],
   "source": [
    "# 대화형 프로그램\n",
    "print(\"안녕하세요\")\n",
    "name = input(\"이름이 어떻게 되시나요?\")\n",
    "print(\"만나서 반갑습니다.\" + name + \"씨\")\n",
    "print(\"이름의 길이는 다음과 같군요:\" , len(name))\n",
    "\n",
    "age = int(input(\"나이가 어떻게 되나요?\"))\n",
    "print(\"내년이면\" + str(age+1)+ \"이 되시는 군요\")"
   ]
  },
  {
   "cell_type": "code",
   "execution_count": 14,
   "id": "9179c248",
   "metadata": {
    "scrolled": true
   },
   "outputs": [
    {
     "name": "stdout",
     "output_type": "stream",
     "text": [
      "몸무게 kg 단위를 입력하세요 :300\n",
      "키를 cm 단위로 입력하세요 :500\n",
      "당신의 BMI= 0.0012\n"
     ]
    }
   ],
   "source": [
    "# BMI 계산하기\n",
    "# BMI <18.50 저체중\n",
    "# BMI 18.50 - 24.99 표준\n",
    "# BMI 24.99 - 29.99 과체중\n",
    "# BMI > 비만\n",
    "weight = float(input(\"몸무게 kg 단위를 입력하세요 :\"))\n",
    "height = float(input(\"키를 cm 단위로 입력하세요 :\"))\n",
    "\n",
    "bmi = (weight / (height**2))\n",
    "print(\"당신의 BMI=\" , bmi)"
   ]
  },
  {
   "cell_type": "code",
   "execution_count": 19,
   "id": "18d109ab",
   "metadata": {},
   "outputs": [
    {
     "name": "stdout",
     "output_type": "stream",
     "text": [
      "반지름 입력하세요5.0\n",
      "구의 부피 =    523.60 \n"
     ]
    }
   ],
   "source": [
    "# 구의 부피 계산\n",
    "r = float(input(\"반지름 입력하세요\"))\n",
    "\n",
    "# 구의 부피 공식\n",
    "volume = (4.0/3.0) * 3.141592 * r ** 3\n",
    "\n",
    "# 구의 부피를 화면에 출력\n",
    "print(\"구의 부피 =%10.2f \" % volume)"
   ]
  }
 ],
 "metadata": {
  "kernelspec": {
   "display_name": "Python 3 (ipykernel)",
   "language": "python",
   "name": "python3"
  },
  "language_info": {
   "codemirror_mode": {
    "name": "ipython",
    "version": 3
   },
   "file_extension": ".py",
   "mimetype": "text/x-python",
   "name": "python",
   "nbconvert_exporter": "python",
   "pygments_lexer": "ipython3",
   "version": "3.9.12"
  }
 },
 "nbformat": 4,
 "nbformat_minor": 5
}
